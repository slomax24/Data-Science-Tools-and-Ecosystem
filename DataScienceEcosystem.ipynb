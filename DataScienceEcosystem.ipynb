{
 "cells": [
  {
   "cell_type": "markdown",
   "id": "359aac7a-f861-4b7d-8698-b22c5310f277",
   "metadata": {},
   "source": [
    "# Data Science Tools and Ecosystem"
   ]
  },
  {
   "cell_type": "markdown",
   "id": "f361fa8b-3acc-4194-bd05-eb39403bcdff",
   "metadata": {},
   "source": [
    "In this notebook, Data Science Tools and Ecosystem are summarized."
   ]
  },
  {
   "cell_type": "markdown",
   "id": "3f1a93bb-a237-49ef-9be9-95dee412a93e",
   "metadata": {},
   "source": [
    "**Objectives**\n",
    "* List Popular languages for Data Science\n",
    "* List commonly used libraries for Data Science\n",
    "* Use a table to list Data Science Tools\n",
    "* Create and evaluate arithmetic expression"
   ]
  },
  {
   "cell_type": "markdown",
   "id": "aafe4327-9b9d-4d57-8dc3-e2679ef0f3ea",
   "metadata": {},
   "source": [
    "Some of the popular languages that Data Scientists use are:\n",
    "1. Python\n",
    "2. R\n",
    "3. SQL"
   ]
  },
  {
   "cell_type": "markdown",
   "id": "4fade6da-7efd-4f05-9b6f-78817e524ea3",
   "metadata": {},
   "source": [
    "Some of the commonly used libraries used by Data Scientists include:\n",
    "1. numPy\n",
    "2. pandas\n",
    "3. keras"
   ]
  },
  {
   "cell_type": "markdown",
   "id": "1c5abb9b-f65e-4833-a7d8-a07285b038ce",
   "metadata": {},
   "source": [
    "|Data Science Tools|\n",
    "|---------------|\n",
    "|Jupyter Notebook|\n",
    "|R Studio|\n",
    "|Apache Spark|"
   ]
  },
  {
   "cell_type": "markdown",
   "id": "737e636b-e9bb-456d-a59b-45df63940b0d",
   "metadata": {},
   "source": [
    "### Below are a few examples of evaluating arithmetic expressions in Python."
   ]
  },
  {
   "cell_type": "code",
   "execution_count": 1,
   "id": "ee0a5558-3dcf-4700-b1cb-51b4b565759f",
   "metadata": {
    "tags": []
   },
   "outputs": [
    {
     "data": {
      "text/plain": [
       "17"
      ]
     },
     "execution_count": 1,
     "metadata": {},
     "output_type": "execute_result"
    }
   ],
   "source": [
    "# This is a simple arithmetic expression to multiply then add integers\n",
    "(3*4)+5"
   ]
  },
  {
   "cell_type": "code",
   "execution_count": 2,
   "id": "401247cc-100a-408d-9f9d-c6ec04c0ac95",
   "metadata": {
    "tags": []
   },
   "outputs": [
    {
     "data": {
      "text/plain": [
       "3.3333333333333335"
      ]
     },
     "execution_count": 2,
     "metadata": {},
     "output_type": "execute_result"
    }
   ],
   "source": [
    "# This will convert 200 minutes to hours by dividing by 60\n",
    "200/60"
   ]
  },
  {
   "cell_type": "markdown",
   "id": "9b01868b-20ed-436b-857e-b30b330f53bd",
   "metadata": {},
   "source": [
    "## Author\n",
    "Sarah Lomax"
   ]
  },
  {
   "cell_type": "code",
   "execution_count": null,
   "id": "4acfe691-75be-4a90-8715-f053ceff527f",
   "metadata": {},
   "outputs": [],
   "source": []
  }
 ],
 "metadata": {
  "kernelspec": {
   "display_name": "Python",
   "language": "python",
   "name": "conda-env-python-py"
  },
  "language_info": {
   "codemirror_mode": {
    "name": "ipython",
    "version": 3
   },
   "file_extension": ".py",
   "mimetype": "text/x-python",
   "name": "python",
   "nbconvert_exporter": "python",
   "pygments_lexer": "ipython3",
   "version": "3.7.12"
  }
 },
 "nbformat": 4,
 "nbformat_minor": 5
}
